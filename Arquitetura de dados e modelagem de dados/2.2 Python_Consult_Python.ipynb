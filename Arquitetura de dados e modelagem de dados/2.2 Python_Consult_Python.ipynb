{
 "cells": [
  {
   "cell_type": "code",
   "execution_count": 10,
   "metadata": {},
   "outputs": [
    {
     "data": {
      "text/plain": [
       "10"
      ]
     },
     "execution_count": 10,
     "metadata": {},
     "output_type": "execute_result"
    }
   ],
   "source": [
    "## Python + SQL: GABARITO COM CRIAÇÃO DE BANCO DE DADOS Hypera.db by Ivan Raphael Albarello 28 de Maio de 2024\n",
    "\n",
    "import sqlite3\n",
    "import pandas as pd\n",
    "\n",
    "# Conectar ao banco de dados SQLite\n",
    "conn = sqlite3.connect('Hypera.db')\n",
    "\n",
    "# Carregar os dados do Excel\n",
    "excel_file = 'Hypera.xlsx'\n",
    "fato_df = pd.read_excel(excel_file, sheet_name='FATO')\n",
    "loja_df = pd.read_excel(excel_file, sheet_name='LOJA')\n",
    "produto_df = pd.read_excel(excel_file, sheet_name='PRODUTO')\n",
    "\n",
    "# Escrever os DataFrames para tabelas SQLite\n",
    "fato_df.to_sql('PRODUTO', conn, if_exists='replace', index=False)\n",
    "loja_df.to_sql('LOJA', conn, if_exists='replace', index=False)\n",
    "produto_df.to_sql('PRODUTO', conn, if_exists='replace', index=False)\n"
   ]
  },
  {
   "cell_type": "code",
   "execution_count": 28,
   "metadata": {},
   "outputs": [
    {
     "data": {
      "text/plain": [
       "10"
      ]
     },
     "execution_count": 28,
     "metadata": {},
     "output_type": "execute_result"
    }
   ],
   "source": [
    "import pandas as pd\n",
    "import sqlite3\n",
    "\n",
    "# Criar o DataFrame com os dados fornecidos\n",
    "data = {\n",
    "    'CODIGO_PRODUTO': [1, 2, 3, 4, 5, 6, 7, 8, 9, 10],\n",
    "    'CNPJ_LOJA': [\n",
    "        '12345678000101', '12345678000102', '12345678000103',\n",
    "        '12345678000104', '12345678000105', '12345678000101',\n",
    "        '12345678000102', '12345678000103', '12345678000104',\n",
    "        '12345678000105'\n",
    "    ],\n",
    "    'PERIODO': [\n",
    "        202401, 202401, 202402, 202402, 202403,\n",
    "        202403, 202404, 202404, 202405, 202405\n",
    "    ],\n",
    "    'VOLUME': [100, 150, 200, 250, 300, 350, 400, 450, 500, 550],\n",
    "    'VALOR_R$': [500, 750, 1000, 1250, 1500, 1750, 2000, 2250, 2500, 2750]\n",
    "}\n",
    "\n",
    "df = pd.DataFrame(data)\n",
    "\n",
    "# Conectar ao banco de dados SQLite (ou criar um novo banco de dados)\n",
    "conn = sqlite3.connect('Hypera.db')\n",
    "\n",
    "# Escrever o DataFrame para uma tabela SQLite\n",
    "df.to_sql('FATO', conn, if_exists='replace', index=False)\n"
   ]
  },
  {
   "cell_type": "code",
   "execution_count": 29,
   "metadata": {},
   "outputs": [
    {
     "name": "stdout",
     "output_type": "stream",
     "text": [
      "   CODIGO_PRODUTO  FATURAMENTO_TOTAL\n",
      "0              10               2750\n",
      "1               9               2500\n",
      "2               8               2250\n"
     ]
    }
   ],
   "source": [
    "#A. Quais os 3 produtos com maior faturamento no ano de 2024:\n",
    "\n",
    "query = \"\"\"\n",
    "SELECT CODIGO_PRODUTO, SUM(VALOR_R$) AS FATURAMENTO_TOTAL\n",
    "FROM FATO\n",
    "WHERE PERIODO BETWEEN 202401 AND 202412\n",
    "GROUP BY CODIGO_PRODUTO\n",
    "ORDER BY FATURAMENTO_TOTAL DESC\n",
    "LIMIT 3;\n",
    "\"\"\"\n",
    "\n",
    "# Executar a consulta e obter os resultados\n",
    "result = pd.read_sql_query(query, conn)\n",
    "\n",
    "# Fechar a conexão com o banco de dados\n",
    "conn.close()\n",
    "\n",
    "# Exibir os resultados\n",
    "print(result)\n"
   ]
  },
  {
   "cell_type": "code",
   "execution_count": 45,
   "metadata": {},
   "outputs": [
    {
     "data": {
      "text/plain": [
       "10"
      ]
     },
     "execution_count": 45,
     "metadata": {},
     "output_type": "execute_result"
    }
   ],
   "source": [
    "import pandas as pd\n",
    "import sqlite3\n",
    "\n",
    "# Criar o DataFrame com os dados fornecidos\n",
    "data = {\n",
    "    'CNPJ': [\n",
    "        '12345678000101', '12345678000102', '12345678000103',\n",
    "        '12345678000104', '12345678000105', '12345678000106',\n",
    "        '12345678000107', '12345678000108', '12345678000109',\n",
    "        '12345678000110'\n",
    "    ],\n",
    "    'CLIENTE': [\n",
    "        'Cliente A', 'Cliente B', 'Cliente C', 'Cliente D', 'Cliente E',\n",
    "        'Cliente F', 'Cliente G', 'Cliente H', 'Cliente I', 'Cliente J'\n",
    "    ],\n",
    "    'ASSOCIACAO': [\n",
    "        'Assoc1', 'Assoc2', 'Assoc1', 'Assoc3', 'Assoc2',\n",
    "        'Assoc1', 'Assoc3', 'Assoc2', 'Assoc1', 'Assoc3'\n",
    "    ],\n",
    "    'ATIVO_S_N': ['S', 'S', 'S', 'S', 'S', 'N', 'S', 'N', 'S', 'S'],\n",
    "    'UF': ['SP', 'RJ', 'MG', 'BA', 'PR', 'SC', 'RS', 'PE', 'GO', 'ES']\n",
    "}\n",
    "\n",
    "df = pd.DataFrame(data)\n",
    "\n",
    "# Conectar ao banco de dados SQLite (ou criar um novo banco de dados)\n",
    "conn = sqlite3.connect('Hypera.db')\n",
    "\n",
    "# Escrever o DataFrame para uma tabela SQLite\n",
    "df.to_sql('PRODUTO', conn, if_exists='replace', index=False)\n"
   ]
  },
  {
   "cell_type": "code",
   "execution_count": 46,
   "metadata": {},
   "outputs": [
    {
     "name": "stdout",
     "output_type": "stream",
     "text": [
      "   clientes_ativos\n",
      "0                1\n"
     ]
    }
   ],
   "source": [
    "# B. Quais as quantidades de Clientes ativos em \"SP\" na tabela loja:\n",
    "query = \"\"\"\n",
    "SELECT COUNT(*) AS clientes_ativos\n",
    "FROM LOJA\n",
    "WHERE UF = 'SP' AND ATIVO_S_N = 'S';\n",
    "\"\"\"\n",
    "\n",
    "# Executar a consulta e obter os resultados\n",
    "result = pd.read_sql_query(query, conn)\n",
    "\n",
    "# Fechar a conexão com o banco de dados\n",
    "conn.close()\n",
    "\n",
    "# Exibir os resultados\n",
    "print(result)\n"
   ]
  },
  {
   "cell_type": "code",
   "execution_count": 47,
   "metadata": {},
   "outputs": [
    {
     "name": "stdout",
     "output_type": "stream",
     "text": [
      "   CODIGO   DESCRICAO  TOTAL_VOLUME\n",
      "0       6  Loratadina           350\n"
     ]
    }
   ],
   "source": [
    "# C. Quais as quantidades/Volume de produto promovidos *(s) com vendas no último mês 03 de 2024:\n",
    "\n",
    "\n",
    "import pandas as pd\n",
    "import sqlite3\n",
    "\n",
    "# Dados das tabelas\n",
    "data_produto = {\n",
    "    'CODIGO': [1, 2, 3, 4, 5, 6, 7, 8, 9, 10],\n",
    "    'DESCRICAO': ['Dipirona', 'Paracetamol', 'Ibuprofeno', 'Omeprazol', 'Simeticona', 'Loratadina', 'Cetirizina', 'Ácido Acetilsalicílico', 'Ranitidina', 'Dimenidrinato'],\n",
    "    'CATEGORIA': ['Analgésico', 'Analgésico', 'Anti-inflamatório', 'Antiácido', 'Antiflatulento', 'Antialérgico', 'Antialérgico', 'Anti-inflamatório', 'Antiácido', 'Antiemético'],\n",
    "    'ATIVO_S_N': ['S', 'S', 'S', 'S', 'S', 'S', 'S', 'S', 'S', 'S'],\n",
    "    'PROMOVIDO_S_N': ['N', 'N', 'N', 'N', 'N', 'S', 'N', 'N', 'N', 'N']\n",
    "}\n",
    "\n",
    "data_fato = {\n",
    "    'CODIGO_PRODUTO': [1, 2, 3, 4, 5, 6, 7, 8, 9, 10],\n",
    "    'CNPJ_LOJA': ['12345678000101', '12345678000102', '12345678000103', '12345678000104', '12345678000105', '12345678000101', '12345678000102', '12345678000103', '12345678000104', '12345678000105'],\n",
    "    'PERIODO': [202401, 202401, 202402, 202402, 202403, 202403, 202403, 202404, 202404, 202405],\n",
    "    'VOLUME': [100, 150, 200, 250, 300, 350, 400, 450, 500, 550],\n",
    "    'VALOR_R$': [500, 750, 1000, 1250, 1500, 1750, 2000, 2250, 2500, 2750]\n",
    "}\n",
    "\n",
    "# Criar DataFrames\n",
    "df_produto = pd.DataFrame(data_produto)\n",
    "df_fato = pd.DataFrame(data_fato)\n",
    "\n",
    "# Conectar ao banco de dados SQLite (na memória)\n",
    "conn = sqlite3.connect(':memory:')\n",
    "\n",
    "# Carregar os DataFrames no banco de dados SQLite\n",
    "df_produto.to_sql('produto', conn, index=False, if_exists='replace')\n",
    "df_fato.to_sql('fato', conn, index=False, if_exists='replace')\n",
    "\n",
    "# Query SQL para encontrar as quantidades de produtos promovidos com vendas no mês 03 de 2024\n",
    "query = \"\"\"\n",
    "SELECT \n",
    "    p.CODIGO, \n",
    "    p.DESCRICAO, \n",
    "    SUM(f.Volume) as TOTAL_VOLUME\n",
    "    \n",
    "FROM \n",
    "    produto p\n",
    "JOIN \n",
    "    fato f\n",
    "ON \n",
    "    p.CODIGO = f.CODIGO_PRODUTO\n",
    "WHERE \n",
    "    p.PROMOVIDO_S_N = 'S' \n",
    "    AND f.PERIODO = 202403\n",
    "GROUP BY \n",
    "    p.CODIGO, \n",
    "    p.DESCRICAO\n",
    "\"\"\"\n",
    "\n",
    "# Executar a query e obter o resultado em um DataFrame\n",
    "result = pd.read_sql_query(query, conn)\n",
    "\n",
    "# Fechar a conexão\n",
    "conn.close()\n",
    "\n",
    "# Exibir o resultado\n",
    "print(result)\n"
   ]
  },
  {
   "cell_type": "code",
   "execution_count": 48,
   "metadata": {},
   "outputs": [
    {
     "name": "stdout",
     "output_type": "stream",
     "text": [
      "        CNPJ_LOJA  TOTAL_FATURAMENTO\n",
      "0  12345678000101             662500\n",
      "1  12345678000105             450000\n",
      "2  12345678000104             312500\n",
      "3  12345678000103             200000\n",
      "4  12345678000102             112500\n"
     ]
    }
   ],
   "source": [
    "#D. Quais são as 10 lojas com maior faturamento no ano de 2024:\n",
    "\n",
    "import pandas as pd\n",
    "import sqlite3\n",
    "\n",
    "# Dados da tabela FATO atualizada\n",
    "data_fato = {\n",
    "    'CODIGO_PRODUTO': [1, 2, 3, 4, 5, 6, 7, 8, 9, 10],\n",
    "    'CNPJ_LOJA': ['12345678000101', '12345678000102', '12345678000103', '12345678000104', '12345678000105', '12345678000101', '12345678000102', '12345678000103', '12345678000104', '12345678000105'],\n",
    "    'PERIODO': [202401, 202401, 202402, 202402, 202403, 202403, 202303, 202304, 202305, 202305],\n",
    "    'VOLUME': [100, 150, 200, 250, 300, 350, 400, 450, 500, 550],\n",
    "    'VALOR_R$': [500, 750, 1000, 1250, 1500, 1750, 2000, 2250, 2500, 2750]\n",
    "}\n",
    "\n",
    "# Criar DataFrame\n",
    "df_fato = pd.DataFrame(data_fato)\n",
    "\n",
    "# Adicionar coluna de faturamento total\n",
    "df_fato['FATURAMENTO_TOTAL'] = df_fato['VOLUME'] * df_fato['VALOR_R$']\n",
    "\n",
    "# Conectar ao banco de dados SQLite (na memória)\n",
    "conn = sqlite3.connect(':memory:')\n",
    "\n",
    "# Carregar o DataFrame no banco de dados SQLite\n",
    "df_fato.to_sql('fato', conn, index=False, if_exists='replace')\n",
    "\n",
    "# Query SQL para encontrar as 10 lojas com maior faturamento no ano de 2024\n",
    "query = \"\"\"\n",
    "SELECT \n",
    "    CNPJ_LOJA, \n",
    "    SUM(FATURAMENTO_TOTAL) as TOTAL_FATURAMENTO\n",
    "FROM \n",
    "    fato\n",
    "WHERE \n",
    "    PERIODO >= 202401 AND PERIODO <= 202412\n",
    "GROUP BY \n",
    "    CNPJ_LOJA\n",
    "ORDER BY \n",
    "    TOTAL_FATURAMENTO DESC\n",
    "LIMIT 10\n",
    "\"\"\"\n",
    "\n",
    "# Executar a query e obter o resultado em um DataFrame\n",
    "result = pd.read_sql_query(query, conn)\n",
    "\n",
    "# Fechar a conexão\n",
    "conn.close()\n",
    "\n",
    "# Exibir o resultado\n",
    "print(result)\n"
   ]
  },
  {
   "cell_type": "code",
   "execution_count": 51,
   "metadata": {},
   "outputs": [
    {
     "name": "stdout",
     "output_type": "stream",
     "text": [
      "('-4158-01', 'Analgésico', 1250.0)\n",
      "('-4158-01', 'Anti-inflamatório', 3250.0)\n",
      "('-4158-01', 'Antialérgico', 3750.0)\n",
      "('-4158-01', 'Antiflatulento', 1500.0)\n",
      "('-4158-01', 'Antiácido', 1250.0)\n",
      "('-4159-10', 'Antiemético', 2750.0)\n",
      "('-4159-10', 'Antiácido', 2500.0)\n"
     ]
    }
   ],
   "source": [
    "#E. Qual o total de vendas mensais por categoria:\n",
    "import sqlite3\n",
    "\n",
    "# Cria e conecta ao banco de dados SQLite em memória\n",
    "conn = sqlite3.connect(':memory:')\n",
    "cursor = conn.cursor()\n",
    "\n",
    "# Cria a tabela PRODUTO\n",
    "cursor.execute('''\n",
    "CREATE TABLE PRODUTO (\n",
    "    CODIGO INTEGER PRIMARY KEY,\n",
    "    DESCRICAO TEXT,\n",
    "    CATEGORIA TEXT,\n",
    "    ATIVO_S_N TEXT,\n",
    "    PROMOVIDO_S_N TEXT\n",
    ")\n",
    "''')\n",
    "\n",
    "# Cria a tabela FATO\n",
    "cursor.execute('''\n",
    "CREATE TABLE FATO (\n",
    "    CODIGO_PRODUTO INTEGER,\n",
    "    CNPJ_LOJA TEXT,\n",
    "    PERIODO INTEGER,\n",
    "    VOLUME INTEGER,\n",
    "    VALOR_RS REAL,\n",
    "    FOREIGN KEY (CODIGO_PRODUTO) REFERENCES PRODUTO (CODIGO)\n",
    ")\n",
    "''')\n",
    "\n",
    "# Insere os dados na tabela PRODUTO\n",
    "produtos = [\n",
    "    (1, 'Dipirona', 'Analgésico', 'S', 'N'),\n",
    "    (2, 'Paracetamol', 'Analgésico', 'S', 'S'),\n",
    "    (3, 'Ibuprofeno', 'Anti-inflamatório', 'S', 'N'),\n",
    "    (4, 'Omeprazol', 'Antiácido', 'S', 'S'),\n",
    "    (5, 'Simeticona', 'Antiflatulento', 'S', 'N'),\n",
    "    (6, 'Loratadina', 'Antialérgico', 'S', 'S'),\n",
    "    (7, 'Cetirizina', 'Antialérgico', 'S', 'S'),\n",
    "    (8, 'Ácido Acetilsalicílico', 'Anti-inflamatório', 'S', 'S'),\n",
    "    (9, 'Ranitidina', 'Antiácido', 'S', 'N'),\n",
    "    (10, 'Dimenidrato', 'Antiemético', 'S', 'S')\n",
    "]\n",
    "\n",
    "cursor.executemany('''\n",
    "INSERT INTO PRODUTO (CODIGO, DESCRICAO, CATEGORIA, ATIVO_S_N, PROMOVIDO_S_N)\n",
    "VALUES (?, ?, ?, ?, ?)\n",
    "''', produtos)\n",
    "\n",
    "# Insere os dados na tabela FATO\n",
    "fatos = [\n",
    "    (1, '12345678000101', 202401, 100, 500),\n",
    "    (2, '12345678000102', 202401, 150, 750),\n",
    "    (3, '12345678000103', 202402, 200, 1000),\n",
    "    (4, '12345678000104', 202402, 250, 1250),\n",
    "    (5, '12345678000105', 202403, 300, 1500),\n",
    "    (6, '12345678000101', 202403, 350, 1750),\n",
    "    (7, '12345678000102', 202404, 400, 2000),\n",
    "    (8, '12345678000103', 202404, 450, 2250),\n",
    "    (9, '12345678000104', 202305, 500, 2500),\n",
    "    (10, '12345678000105', 202305, 550, 2750)\n",
    "]\n",
    "\n",
    "cursor.executemany('''\n",
    "INSERT INTO FATO (CODIGO_PRODUTO, CNPJ_LOJA, PERIODO, VOLUME, VALOR_RS)\n",
    "VALUES (?, ?, ?, ?, ?)\n",
    "''', fatos)\n",
    "\n",
    "# Consulta SQL para calcular o total de vendas (VALOR_RS) por categoria em cada ano/mês\n",
    "query = '''\n",
    "SELECT \n",
    "    strftime('%Y-%m', substr(f.PERIODO, 1, 6)) AS ANO_MES,\n",
    "    p.CATEGORIA,\n",
    "    SUM(f.VALOR_RS) AS TOTAL_VENDAS\n",
    "FROM FATO f\n",
    "JOIN PRODUTO p ON f.CODIGO_PRODUTO = p.CODIGO\n",
    "GROUP BY ANO_MES, p.CATEGORIA\n",
    "ORDER BY ANO_MES, p.CATEGORIA\n",
    "'''\n",
    "\n",
    "# Executa a consulta\n",
    "cursor.execute(query)\n",
    "\n",
    "# Exibe os resultados\n",
    "resultados = cursor.fetchall()\n",
    "for linha in resultados:\n",
    "    print(linha)\n",
    "\n",
    "# Fecha a conexão com o banco de dados\n",
    "conn.close()\n"
   ]
  }
 ],
 "metadata": {
  "kernelspec": {
   "display_name": "base",
   "language": "python",
   "name": "python3"
  },
  "language_info": {
   "codemirror_mode": {
    "name": "ipython",
    "version": 3
   },
   "file_extension": ".py",
   "mimetype": "text/x-python",
   "name": "python",
   "nbconvert_exporter": "python",
   "pygments_lexer": "ipython3",
   "version": "3.11.7"
  }
 },
 "nbformat": 4,
 "nbformat_minor": 2
}
