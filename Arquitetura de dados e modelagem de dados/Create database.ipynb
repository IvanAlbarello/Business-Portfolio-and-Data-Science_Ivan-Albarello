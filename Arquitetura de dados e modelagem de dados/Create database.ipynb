{
 "cells": [
  {
   "cell_type": "code",
   "execution_count": 1,
   "metadata": {},
   "outputs": [],
   "source": [
    "import sqlite3\n",
    "\n",
    "db = sqlite3.connect('database.db')\n",
    "cursor = db.cursor()\n",
    "\n",
    "# Creating table\n",
    "cursor.execute('''\n",
    "    CREATE TABLE IF NOT EXISTS pharmaceutical_products\n",
    "    (id INTEGER PRIMARY KEY AUTOINCREMENT,\n",
    "    product_name TEXT NOT NULL,\n",
    "    product_brand TEXT NOT NULL,\n",
    "    product_price REAL NOT NULL,\n",
    "    products_quantities INTEGER,\n",
    "    product_expiration_date TEXT NOT NULL); \n",
    "''')\n",
    "\n",
    "# Inserting records\n",
    "products = [('Aspirin', 'Bayer', 5.0, 100, '2023-07-01'),\n",
    "            ('Paracetamol', 'Tylenol', 3.75, 120, '2024-02-20'),\n",
    "            ('Ibuprofen', 'Motrin', 7.25, 130, '2023-12-01')]\n",
    "\n",
    "cursor.executemany('''\n",
    "    INSERT INTO pharmaceutical_products(product_name, product_brand, product_price, products_quantities, product_expiration_date) VALUES(?,?,?,?,?)\n",
    "''', products)\n",
    "\n",
    "db.commit()\n",
    "db.close()\n"
   ]
  },
  {
   "cell_type": "code",
   "execution_count": null,
   "metadata": {},
   "outputs": [],
   "source": [
    "\n",
    "# Conexão com banco de dados\n",
    "conn = sqlite3.connect('database.db')\n",
    "\n",
    "# Criação de cursor\n",
    "c = conn.cursor()\n",
    "\n",
    "# Execução da Query\n",
    "c.execute(\"SELECT product_name,products_quantities FROM pharmaceutical_products\")\n",
    "\n",
    "# Fetcha os dados\n",
    "data = c.fetchall()\n",
    "\n",
    "# Separa os dados\n",
    "products, quantities = zip(*data)\n",
    "\n",
    "# Cria o gráfico de barras\n",
    "plt.barh(products, quantities)\n",
    "\n",
    "# Define o label do eixo y\n",
    "plt.ylabel('Products')\n",
    "\n",
    "# Define o label do eixo x\n",
    "plt.xlabel('Quantities')\n",
    "\n",
    "# Define o título do gráfico\n",
    "plt.title('Products Quantities')\n",
    "\n",
    "# Mostra o gráfico\n",
    "plt.show()\n",
    "\n",
    "# Fecha a conexão\n",
    "conn.close()\n"
   ]
  }
 ],
 "metadata": {
  "kernelspec": {
   "display_name": "base",
   "language": "python",
   "name": "python3"
  },
  "language_info": {
   "codemirror_mode": {
    "name": "ipython",
    "version": 3
   },
   "file_extension": ".py",
   "mimetype": "text/x-python",
   "name": "python",
   "nbconvert_exporter": "python",
   "pygments_lexer": "ipython3",
   "version": "3.11.7"
  }
 },
 "nbformat": 4,
 "nbformat_minor": 2
}
