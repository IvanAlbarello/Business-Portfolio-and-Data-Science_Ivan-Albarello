{
 "cells": [
  {
   "cell_type": "code",
   "execution_count": null,
   "metadata": {},
   "outputs": [],
   "source": [
    "import pandas as pd\n",
    "from unidecode import unidecode\n",
    "\n",
    "# Função para limpar dados\n",
    "def clean_data(df):\n",
    "    # Remover duplicados\n",
    "    df = df.drop_duplicates()\n",
    "\n",
    "    # Remover linhas com valores nulos\n",
    "    df = df.dropna()\n",
    "\n",
    "    # Remover acentos ortográficos de todas as colunas de texto\n",
    "    df = df.applymap(lambda x: unidecode(str(x)) if isinstance(x, str) else x)\n",
    "\n",
    "    # Strip leading/trailing spaces\n",
    "    df = df.applymap(lambda x: x.strip() if isinstance(x, str) else x)\n",
    "\n",
    "    # Outras limpezas específicas (exemplo: convertendo para lowercase)\n",
    "    df = df.applymap(lambda x: x.lower() if isinstance(x, str) else x)\n",
    "\n",
    "    return df\n",
    "\n",
    "# Exemplo de uso\n",
    "if __name__ == \"__main__\":\n",
    "    # Carregar dados de um arquivo CSV\n",
    "    df = pd.read_csv('seu_arquivo.csv')\n",
    "\n",
    "    # Limpar os dados\n",
    "    df_limpo = clean_data(df)\n",
    "\n",
    "    # Salvar os dados limpos em um novo arquivo CSV\n",
    "    df_limpo.to_csv('seu_arquivo_limpo.csv', index=False)\n",
    "\n",
    "    print(\"Dados limpos e salvos com sucesso.\")\n"
   ]
  }
 ],
 "metadata": {
  "language_info": {
   "name": "python"
  }
 },
 "nbformat": 4,
 "nbformat_minor": 2
}
